{
 "cells": [
  {
   "cell_type": "code",
   "execution_count": 1,
   "metadata": {
    "collapsed": false
   },
   "outputs": [],
   "source": [
    "import pandas as pd\n",
    "from safes.distributions import Binomial"
   ]
  },
  {
   "cell_type": "code",
   "execution_count": 2,
   "metadata": {
    "collapsed": false
   },
   "outputs": [
    {
     "name": "stdout",
     "output_type": "stream",
     "text": [
      "\t Binomial Distribution\n",
      "\t      n=12 p=0.40\n",
      "\n",
      "       PR(X)   PR(<=X)  PR(>=X+1)\n",
      "X                                \n",
      "0   0.002177  0.002177   0.997823\n",
      "1   0.017414  0.019591   0.980409\n",
      "2   0.063852  0.083443   0.916557\n",
      "3   0.141894  0.225337   0.774663\n",
      "4   0.212841  0.438178   0.561822\n",
      "5   0.227030  0.665209   0.334791\n",
      "6   0.176579  0.841788   0.158212\n",
      "7   0.100902  0.942690   0.057310\n",
      "8   0.042043  0.984733   0.015267\n",
      "9   0.012457  0.997190   0.002810\n",
      "10  0.002491  0.999681   0.000319\n",
      "11  0.000302  0.999983   0.000017\n",
      "12  0.000017  1.000000   0.000000\n"
     ]
    }
   ],
   "source": [
    "b = Binomial(n=12, p=.4)\n",
    "\n",
    "lim = 13\n",
    "\n",
    "PR = [b.P(x) for x in range(lim)]\n",
    "PR_left = [b.P_left(x) for x in range(lim)]\n",
    "PR_right = [b.P_right(x+1) for x in range(lim)]\n",
    "\n",
    "df = pd.DataFrame(\n",
    "    {'PR(X)':PR, 'PR(<=X)':PR_left, 'PR(>=X+1)':PR_right},\n",
    "    columns=['PR(X)', 'PR(<=X)', 'PR(>=X+1)']\n",
    ")\n",
    "\n",
    "df.index.name = 'X'\n",
    "print('\\t %s' % 'Binomial Distribution')\n",
    "print('\\t      n=%d p=%.2f\\n' % (b.n, b.p))\n",
    "print(df)"
   ]
  }
 ],
 "metadata": {
  "kernelspec": {
   "display_name": "Python 3",
   "language": "python",
   "name": "python3"
  },
  "language_info": {
   "codemirror_mode": {
    "name": "ipython",
    "version": 3
   },
   "file_extension": ".py",
   "mimetype": "text/x-python",
   "name": "python",
   "nbconvert_exporter": "python",
   "pygments_lexer": "ipython3",
   "version": "3.4.3"
  }
 },
 "nbformat": 4,
 "nbformat_minor": 0
}
