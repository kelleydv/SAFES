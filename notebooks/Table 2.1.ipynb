{
 "cells": [
  {
   "cell_type": "markdown",
   "metadata": {},
   "source": [
    "## Simulation results for the proportion of rolls of a fair die"
   ]
  },
  {
   "cell_type": "code",
   "execution_count": 1,
   "metadata": {
    "collapsed": false
   },
   "outputs": [],
   "source": [
    "import pandas as pd\n",
    "pd.set_option('display.precision', 4) #sig figs in output"
   ]
  },
  {
   "cell_type": "code",
   "execution_count": 3,
   "metadata": {
    "collapsed": false
   },
   "outputs": [
    {
     "name": "stdout",
     "output_type": "stream",
     "text": [
      "              6      12     24     48     96     192    384    768    1536\n",
      "1.0          0.333  0.167  0.250  0.104  0.146  0.156  0.174  0.181  0.161\n",
      "2.0          0.167  0.167  0.208  0.104  0.219  0.141  0.148  0.163  0.160\n",
      "3.0            NaN    NaN  0.125  0.208  0.177  0.177  0.169  0.155  0.184\n",
      "4.0          0.167  0.083  0.250  0.188  0.115  0.151  0.174  0.177  0.161\n",
      "5.0          0.167  0.167  0.083  0.229  0.177  0.208  0.195  0.171  0.156\n",
      "6.0          0.167  0.417  0.083  0.167  0.167  0.167  0.138  0.154  0.178\n",
      "max abs dev  0.167  0.250  0.083  0.062  0.052  0.042  0.029  0.014  0.017\n"
     ]
    }
   ],
   "source": [
    "from safes.die import Die\n",
    "\n",
    "n = 6 #number of rolls for 1st trial\n",
    "rolls = [] #collects n from each trial\n",
    "trials = []\n",
    "for x in range(9):\n",
    "    d = Die(sides=6, n=n)\n",
    "    freq = d.frequency #pandas Series object\n",
    "    freq['max abs dev'] = (freq - 1/d.sides).max()\n",
    "    trials.append(freq)\n",
    "    rolls.append(n)\n",
    "    n *= 2\n",
    "\n",
    "df = pd.concat(trials,axis=1)\n",
    "df.columns = rolls #Name the columns according to n for that trial\n",
    "print(df)"
   ]
  }
 ],
 "metadata": {
  "kernelspec": {
   "display_name": "Python 3",
   "language": "python",
   "name": "python3"
  },
  "language_info": {
   "codemirror_mode": {
    "name": "ipython",
    "version": 3
   },
   "file_extension": ".py",
   "mimetype": "text/x-python",
   "name": "python",
   "nbconvert_exporter": "python",
   "pygments_lexer": "ipython3",
   "version": "3.4.3"
  }
 },
 "nbformat": 4,
 "nbformat_minor": 0
}
