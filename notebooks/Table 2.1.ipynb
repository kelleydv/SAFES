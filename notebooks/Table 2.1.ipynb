{
 "cells": [
  {
   "cell_type": "markdown",
   "metadata": {},
   "source": [
    "## Simulation results for the proportion of rolls of a fair die"
   ]
  },
  {
   "cell_type": "code",
   "execution_count": 1,
   "metadata": {
    "collapsed": false
   },
   "outputs": [],
   "source": [
    "import pandas as pd\n",
    "pd.set_option('display.precision', 4) #sig figs in output"
   ]
  },
  {
   "cell_type": "code",
   "execution_count": 2,
   "metadata": {
    "collapsed": false
   },
   "outputs": [
    {
     "name": "stdout",
     "output_type": "stream",
     "text": [
      "              6      12     24     48     96     192    384    768    1536\n",
      "1.0          0.167  0.250  0.167  0.146  0.188  0.224  0.148  0.135  0.167\n",
      "2.0          0.333  0.167  0.167  0.250  0.188  0.188  0.169  0.165  0.162\n",
      "5.0          0.333  0.250  0.125  0.104  0.219  0.188  0.169  0.197  0.180\n",
      "6.0          0.167  0.167  0.167  0.188  0.146  0.109  0.159  0.159  0.161\n",
      "max abs dev  0.167  0.083  0.042  0.083  0.052  0.057  0.010  0.030  0.013\n",
      "3.0            NaN  0.167  0.167  0.167  0.125  0.135  0.177  0.155  0.171\n",
      "4.0            NaN    NaN  0.208  0.146  0.135  0.156  0.177  0.189  0.160\n"
     ]
    }
   ],
   "source": [
    "from die import Die\n",
    "\n",
    "n = 6 #number of rolls for 1st trial\n",
    "rolls = [] #collects n from each trial\n",
    "trials = []\n",
    "for x in range(9):\n",
    "    d = Die(sides=6, n=n)\n",
    "    freq = d.frequency #pandas Series object\n",
    "    freq['max abs dev'] = (freq - 1/d.sides).max()\n",
    "    trials.append(freq)\n",
    "    rolls.append(n)\n",
    "    n *= 2\n",
    "\n",
    "df = pd.concat(trials,axis=1)\n",
    "df.columns = rolls #Name the columns according to n for that trial\n",
    "print(df)"
   ]
  },
  {
   "cell_type": "code",
   "execution_count": null,
   "metadata": {
    "collapsed": true
   },
   "outputs": [],
   "source": []
  }
 ],
 "metadata": {
  "kernelspec": {
   "display_name": "Python 3",
   "language": "python",
   "name": "python3"
  },
  "language_info": {
   "codemirror_mode": {
    "name": "ipython",
    "version": 3
   },
   "file_extension": ".py",
   "mimetype": "text/x-python",
   "name": "python",
   "nbconvert_exporter": "python",
   "pygments_lexer": "ipython3",
   "version": "3.4.3"
  }
 },
 "nbformat": 4,
 "nbformat_minor": 0
}
